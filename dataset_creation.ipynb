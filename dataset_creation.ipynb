{
 "cells": [
  {
   "cell_type": "code",
   "execution_count": 60,
   "metadata": {
    "collapsed": true,
    "ExecuteTime": {
     "start_time": "2023-04-18T17:42:23.668502Z",
     "end_time": "2023-04-18T17:42:23.679186Z"
    }
   },
   "outputs": [],
   "source": [
    "# perform imports\n",
    "import pandas as pd"
   ]
  },
  {
   "cell_type": "code",
   "execution_count": 61,
   "outputs": [],
   "source": [
    "# load dataset with the appropriate encoding; other encodings do not load properly\n",
    "data_raw = pd.read_csv('US_Accidents_Dec21_updated.csv', encoding=\"ISO-8859-1\")"
   ],
   "metadata": {
    "collapsed": false,
    "ExecuteTime": {
     "start_time": "2023-04-18T17:42:23.668776Z",
     "end_time": "2023-04-18T17:42:54.459185Z"
    }
   }
  },
  {
   "cell_type": "code",
   "execution_count": 62,
   "outputs": [
    {
     "data": {
      "text/plain": "    ID  Severity           Start_Time             End_Time  Start_Lat  \\\n0  A-1         3  2016-02-08 00:37:08  2016-02-08 06:37:08  40.108910   \n1  A-2         2  2016-02-08 05:56:20  2016-02-08 11:56:20  39.865420   \n2  A-3         2  2016-02-08 06:15:39  2016-02-08 12:15:39  39.102660   \n3  A-4         2  2016-02-08 06:51:45  2016-02-08 12:51:45  41.062130   \n4  A-5         3  2016-02-08 07:53:43  2016-02-08 13:53:43  39.172393   \n\n   Start_Lng    End_Lat    End_Lng  Distance(mi)  \\\n0 -83.092860  40.112060 -83.031870         3.230   \n1 -84.062800  39.865010 -84.048730         0.747   \n2 -84.524680  39.102090 -84.523960         0.055   \n3 -81.537840  41.062170 -81.535470         0.123   \n4 -84.492792  39.170476 -84.501798         0.500   \n\n                                         Description  ...  Roundabout Station  \\\n0  Between Sawmill Rd/Exit 20 and OH-315/Olentang...  ...       False   False   \n1                 At OH-4/OH-235/Exit 41 - Accident.  ...       False   False   \n2                   At I-71/US-50/Exit 1 - Accident.  ...       False   False   \n3                    At Dart Ave/Exit 21 - Accident.  ...       False   False   \n4                 At Mitchell Ave/Exit 6 - Accident.  ...       False   False   \n\n    Stop Traffic_Calming Traffic_Signal Turning_Loop Sunrise_Sunset  \\\n0  False           False          False        False          Night   \n1  False           False          False        False          Night   \n2  False           False          False        False          Night   \n3  False           False          False        False          Night   \n4  False           False          False        False            Day   \n\n  Civil_Twilight Nautical_Twilight Astronomical_Twilight  \n0          Night             Night                 Night  \n1          Night             Night                 Night  \n2          Night             Night                   Day  \n3          Night               Day                   Day  \n4            Day               Day                   Day  \n\n[5 rows x 47 columns]",
      "text/html": "<div>\n<style scoped>\n    .dataframe tbody tr th:only-of-type {\n        vertical-align: middle;\n    }\n\n    .dataframe tbody tr th {\n        vertical-align: top;\n    }\n\n    .dataframe thead th {\n        text-align: right;\n    }\n</style>\n<table border=\"1\" class=\"dataframe\">\n  <thead>\n    <tr style=\"text-align: right;\">\n      <th></th>\n      <th>ID</th>\n      <th>Severity</th>\n      <th>Start_Time</th>\n      <th>End_Time</th>\n      <th>Start_Lat</th>\n      <th>Start_Lng</th>\n      <th>End_Lat</th>\n      <th>End_Lng</th>\n      <th>Distance(mi)</th>\n      <th>Description</th>\n      <th>...</th>\n      <th>Roundabout</th>\n      <th>Station</th>\n      <th>Stop</th>\n      <th>Traffic_Calming</th>\n      <th>Traffic_Signal</th>\n      <th>Turning_Loop</th>\n      <th>Sunrise_Sunset</th>\n      <th>Civil_Twilight</th>\n      <th>Nautical_Twilight</th>\n      <th>Astronomical_Twilight</th>\n    </tr>\n  </thead>\n  <tbody>\n    <tr>\n      <th>0</th>\n      <td>A-1</td>\n      <td>3</td>\n      <td>2016-02-08 00:37:08</td>\n      <td>2016-02-08 06:37:08</td>\n      <td>40.108910</td>\n      <td>-83.092860</td>\n      <td>40.112060</td>\n      <td>-83.031870</td>\n      <td>3.230</td>\n      <td>Between Sawmill Rd/Exit 20 and OH-315/Olentang...</td>\n      <td>...</td>\n      <td>False</td>\n      <td>False</td>\n      <td>False</td>\n      <td>False</td>\n      <td>False</td>\n      <td>False</td>\n      <td>Night</td>\n      <td>Night</td>\n      <td>Night</td>\n      <td>Night</td>\n    </tr>\n    <tr>\n      <th>1</th>\n      <td>A-2</td>\n      <td>2</td>\n      <td>2016-02-08 05:56:20</td>\n      <td>2016-02-08 11:56:20</td>\n      <td>39.865420</td>\n      <td>-84.062800</td>\n      <td>39.865010</td>\n      <td>-84.048730</td>\n      <td>0.747</td>\n      <td>At OH-4/OH-235/Exit 41 - Accident.</td>\n      <td>...</td>\n      <td>False</td>\n      <td>False</td>\n      <td>False</td>\n      <td>False</td>\n      <td>False</td>\n      <td>False</td>\n      <td>Night</td>\n      <td>Night</td>\n      <td>Night</td>\n      <td>Night</td>\n    </tr>\n    <tr>\n      <th>2</th>\n      <td>A-3</td>\n      <td>2</td>\n      <td>2016-02-08 06:15:39</td>\n      <td>2016-02-08 12:15:39</td>\n      <td>39.102660</td>\n      <td>-84.524680</td>\n      <td>39.102090</td>\n      <td>-84.523960</td>\n      <td>0.055</td>\n      <td>At I-71/US-50/Exit 1 - Accident.</td>\n      <td>...</td>\n      <td>False</td>\n      <td>False</td>\n      <td>False</td>\n      <td>False</td>\n      <td>False</td>\n      <td>False</td>\n      <td>Night</td>\n      <td>Night</td>\n      <td>Night</td>\n      <td>Day</td>\n    </tr>\n    <tr>\n      <th>3</th>\n      <td>A-4</td>\n      <td>2</td>\n      <td>2016-02-08 06:51:45</td>\n      <td>2016-02-08 12:51:45</td>\n      <td>41.062130</td>\n      <td>-81.537840</td>\n      <td>41.062170</td>\n      <td>-81.535470</td>\n      <td>0.123</td>\n      <td>At Dart Ave/Exit 21 - Accident.</td>\n      <td>...</td>\n      <td>False</td>\n      <td>False</td>\n      <td>False</td>\n      <td>False</td>\n      <td>False</td>\n      <td>False</td>\n      <td>Night</td>\n      <td>Night</td>\n      <td>Day</td>\n      <td>Day</td>\n    </tr>\n    <tr>\n      <th>4</th>\n      <td>A-5</td>\n      <td>3</td>\n      <td>2016-02-08 07:53:43</td>\n      <td>2016-02-08 13:53:43</td>\n      <td>39.172393</td>\n      <td>-84.492792</td>\n      <td>39.170476</td>\n      <td>-84.501798</td>\n      <td>0.500</td>\n      <td>At Mitchell Ave/Exit 6 - Accident.</td>\n      <td>...</td>\n      <td>False</td>\n      <td>False</td>\n      <td>False</td>\n      <td>False</td>\n      <td>False</td>\n      <td>False</td>\n      <td>Day</td>\n      <td>Day</td>\n      <td>Day</td>\n      <td>Day</td>\n    </tr>\n  </tbody>\n</table>\n<p>5 rows × 47 columns</p>\n</div>"
     },
     "execution_count": 62,
     "metadata": {},
     "output_type": "execute_result"
    }
   ],
   "source": [
    "# data preview\n",
    "data_raw.head()"
   ],
   "metadata": {
    "collapsed": false,
    "ExecuteTime": {
     "start_time": "2023-04-18T17:42:54.484644Z",
     "end_time": "2023-04-18T17:42:54.492723Z"
    }
   }
  },
  {
   "cell_type": "code",
   "execution_count": 63,
   "outputs": [],
   "source": [
    "# keep relevant columns for weather\n",
    "weather_data = data_raw[['ID', 'Severity', 'Weather_Timestamp', 'Temperature(F)',\n",
    "                         'Wind_Chill(F)', 'Humidity(%)', 'Pressure(in)', 'Visibility(mi)',\n",
    "                         'Wind_Speed(mph)', 'Precipitation(in)', 'Weather_Condition',\n",
    "                         'Sunrise_Sunset']]\n",
    "\n",
    "weather_data.to_csv('us_accidents_weather_data.csv')"
   ],
   "metadata": {
    "collapsed": false,
    "ExecuteTime": {
     "start_time": "2023-04-18T17:42:54.816378Z",
     "end_time": "2023-04-18T17:42:54.916817Z"
    }
   }
  },
  {
   "cell_type": "code",
   "execution_count": null,
   "outputs": [],
   "source": [
    "# keep relevant columns for information on the type of road\n",
    "road_data = data_raw[['ID', 'Severity', 'Amenity', 'Bump', 'Crossing', 'Give_Way',\n",
    "                      'Junction', 'No_Exit', 'Railway', 'Roundabout', 'Station', 'Stop',\n",
    "                      'Traffic_Calming', 'Traffic_Signal', 'Turning_Loop']]\n",
    "\n",
    "road_data.to_csv('us_accidents_road_data.csv')"
   ],
   "metadata": {
    "collapsed": false
   }
  }
 ],
 "metadata": {
  "kernelspec": {
   "display_name": "Python 3",
   "language": "python",
   "name": "python3"
  },
  "language_info": {
   "codemirror_mode": {
    "name": "ipython",
    "version": 2
   },
   "file_extension": ".py",
   "mimetype": "text/x-python",
   "name": "python",
   "nbconvert_exporter": "python",
   "pygments_lexer": "ipython2",
   "version": "2.7.6"
  }
 },
 "nbformat": 4,
 "nbformat_minor": 0
}
