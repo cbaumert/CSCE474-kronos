{
 "cells": [
  {
   "cell_type": "code",
   "execution_count": 2,
   "metadata": {
    "collapsed": true,
    "ExecuteTime": {
     "start_time": "2023-05-07T00:20:19.014030Z",
     "end_time": "2023-05-07T00:20:19.026630Z"
    }
   },
   "outputs": [],
   "source": [
    "# perform imports\n",
    "import pandas as pd\n",
    "import datetime as dt\n",
    "\n",
    "pd.options.mode.chained_assignment = None"
   ]
  },
  {
   "cell_type": "code",
   "execution_count": 3,
   "outputs": [],
   "source": [
    "# load dataset with the appropriate encoding; other encodings do not load properly\n",
    "data_raw = pd.read_csv('us_accidents_weather_data.csv', encoding=\"ISO-8859-1\")"
   ],
   "metadata": {
    "collapsed": false,
    "ExecuteTime": {
     "start_time": "2023-05-07T00:20:19.018780Z",
     "end_time": "2023-05-07T00:20:24.786612Z"
    }
   }
  },
  {
   "cell_type": "code",
   "execution_count": 4,
   "outputs": [],
   "source": [
    "# drop rows with a null weather timestamp\n",
    "data_cleaned = data_raw.dropna(subset='Weather_Timestamp')\n",
    "# set remaining weather timestamps to datetime\n",
    "data_cleaned['Weather_Timestamp'] = data_cleaned['Weather_Timestamp'].astype('datetime64[ns]')"
   ],
   "metadata": {
    "collapsed": false,
    "ExecuteTime": {
     "start_time": "2023-05-07T00:20:24.790271Z",
     "end_time": "2023-05-07T00:20:26.355838Z"
    }
   }
  },
  {
   "cell_type": "code",
   "execution_count": 5,
   "outputs": [],
   "source": [
    "# drop rows without valuable information\n",
    "data_cleaned = data_cleaned.dropna(subset=['Temperature(F)', 'Wind_Chill(F)',\n",
    "                                           'Humidity(%)', 'Pressure(in)', 'Visibility(mi)',\n",
    "                                           'Wind_Speed(mph)', 'Precipitation(in)', 'Weather_Condition'],\n",
    "                                   how='all')"
   ],
   "metadata": {
    "collapsed": false,
    "ExecuteTime": {
     "start_time": "2023-05-07T00:20:26.492013Z",
     "end_time": "2023-05-07T00:20:27.308402Z"
    }
   }
  },
  {
   "cell_type": "code",
   "execution_count": 6,
   "outputs": [],
   "source": [
    "# estimate the Sunrise_Sunset value for null columns based on typical times of day/night\n",
    "mask1 = data_cleaned['Weather_Timestamp'].dt.time >= dt.time(7, 30)\n",
    "mask2 = data_cleaned['Weather_Timestamp'].dt.time <= dt.time(19, 30)\n",
    "mask3 = data_cleaned['Sunrise_Sunset'].isna()\n",
    "\n",
    "data_cleaned.loc[mask1 & mask2 & mask3, 'Sunrise_Sunset'] = 'Day'\n",
    "data_cleaned['Sunrise_Sunset'] = data_cleaned['Sunrise_Sunset'].fillna('Night')"
   ],
   "metadata": {
    "collapsed": false,
    "ExecuteTime": {
     "start_time": "2023-05-07T00:20:27.313630Z",
     "end_time": "2023-05-07T00:20:30.292689Z"
    }
   }
  },
  {
   "cell_type": "code",
   "execution_count": 7,
   "outputs": [],
   "source": [
    "# temperature follows a distribution that seems reasonable to sample from randomly\n",
    "temp_sample = data_cleaned['Temperature(F)'].dropna().sample(n=len(data_cleaned), replace=True)\n",
    "temp_sample.index = data_cleaned.index\n",
    "data_cleaned['Temperature(F)'] = data_cleaned['Temperature(F)'].fillna(temp_sample)"
   ],
   "metadata": {
    "collapsed": false,
    "ExecuteTime": {
     "start_time": "2023-05-07T00:20:30.295957Z",
     "end_time": "2023-05-07T00:20:30.674367Z"
    }
   }
  },
  {
   "cell_type": "code",
   "execution_count": 8,
   "outputs": [],
   "source": [
    "# wind chill follows a distribution that seems reasonable to sample from randomly\n",
    "wind_chill_sample = data_cleaned['Wind_Chill(F)'].dropna().sample(n=len(data_cleaned), replace=True)\n",
    "wind_chill_sample.index = data_cleaned.index\n",
    "data_cleaned['Wind_Chill(F)'] = data_cleaned['Wind_Chill(F)'].fillna(wind_chill_sample)"
   ],
   "metadata": {
    "collapsed": false,
    "ExecuteTime": {
     "start_time": "2023-05-07T00:20:30.678183Z",
     "end_time": "2023-05-07T00:20:31.025246Z"
    }
   }
  },
  {
   "cell_type": "code",
   "execution_count": 9,
   "outputs": [],
   "source": [
    "# humidity follows a distribution that seems reasonable to sample from randomly\n",
    "humidity_sample = data_cleaned['Humidity(%)'].dropna().sample(n=len(data_cleaned), replace=True)\n",
    "humidity_sample.index = data_cleaned.index\n",
    "data_cleaned['Humidity(%)'] = data_cleaned['Humidity(%)'].fillna(humidity_sample)"
   ],
   "metadata": {
    "collapsed": false,
    "ExecuteTime": {
     "start_time": "2023-05-07T00:20:31.028152Z",
     "end_time": "2023-05-07T00:20:31.294927Z"
    }
   }
  },
  {
   "cell_type": "code",
   "execution_count": 10,
   "outputs": [],
   "source": [
    "# the distribution for pressure is irregular, so filling NAs with the median is safest\n",
    "pressure_median = data_cleaned['Pressure(in)'].median()\n",
    "data_cleaned['Pressure(in)'] = data_cleaned['Pressure(in)'].fillna(pressure_median)"
   ],
   "metadata": {
    "collapsed": false,
    "ExecuteTime": {
     "start_time": "2023-05-07T00:20:31.298197Z",
     "end_time": "2023-05-07T00:20:31.400997Z"
    }
   }
  },
  {
   "cell_type": "code",
   "execution_count": 11,
   "outputs": [],
   "source": [
    "# the distribution for visibility is irregular, so filling NAs with the median is safest\n",
    "visibility_median = data_cleaned['Visibility(mi)'].median()\n",
    "data_cleaned['Visibility(mi)'] = data_cleaned['Visibility(mi)'].fillna(visibility_median)"
   ],
   "metadata": {
    "collapsed": false,
    "ExecuteTime": {
     "start_time": "2023-05-07T00:20:31.406831Z",
     "end_time": "2023-05-07T00:20:31.519752Z"
    }
   }
  },
  {
   "cell_type": "code",
   "execution_count": 12,
   "outputs": [],
   "source": [
    "# the distribution for wind speed is irregular, so filling NAs with the median is safest\n",
    "wind_speed_median = data_cleaned['Wind_Speed(mph)'].median()\n",
    "data_cleaned['Wind_Speed(mph)'] = data_cleaned['Wind_Speed(mph)'].fillna(wind_speed_median)"
   ],
   "metadata": {
    "collapsed": false,
    "ExecuteTime": {
     "start_time": "2023-05-07T00:20:31.522113Z",
     "end_time": "2023-05-07T00:20:31.653308Z"
    }
   }
  },
  {
   "cell_type": "code",
   "execution_count": 13,
   "outputs": [],
   "source": [
    "# the distribution for precipitation is irregular, so filling NAs with the median is safest\n",
    "precip_median = data_cleaned['Precipitation(in)'].median()\n",
    "data_cleaned['Precipitation(in)'] = data_cleaned['Precipitation(in)'].fillna(precip_median)"
   ],
   "metadata": {
    "collapsed": false,
    "ExecuteTime": {
     "start_time": "2023-05-07T00:20:31.655420Z",
     "end_time": "2023-05-07T00:20:31.731091Z"
    }
   }
  },
  {
   "cell_type": "code",
   "execution_count": 14,
   "outputs": [],
   "source": [
    "# weather condition follows a distribution that seems reasonable to sample from randomly\n",
    "weather_sample = data_cleaned['Weather_Condition'].dropna().sample(n=len(data_cleaned), replace=True)\n",
    "weather_sample.index = data_cleaned.index\n",
    "data_cleaned['Weather_Condition'] = data_cleaned['Weather_Condition'].fillna(weather_sample)"
   ],
   "metadata": {
    "collapsed": false,
    "ExecuteTime": {
     "start_time": "2023-05-07T00:20:31.857494Z",
     "end_time": "2023-05-07T00:20:32.551120Z"
    }
   }
  },
  {
   "cell_type": "code",
   "execution_count": 15,
   "outputs": [
    {
     "name": "stdout",
     "output_type": "stream",
     "text": [
      "Number of remaining NAs: 0\n"
     ]
    }
   ],
   "source": [
    "# confirm that all NAs have been removed\n",
    "print(f\"Number of remaining NAs: {data_cleaned.isna().any(axis=1).sum()}\")"
   ],
   "metadata": {
    "collapsed": false,
    "ExecuteTime": {
     "start_time": "2023-05-07T00:20:32.553276Z",
     "end_time": "2023-05-07T00:20:33.785540Z"
    }
   }
  },
  {
   "cell_type": "code",
   "execution_count": 19,
   "outputs": [],
   "source": [
    "# save the resulting dataframe as a CSV\n",
    "data_cleaned.to_csv('us_accidents_weather_data_CLEAN.csv')"
   ],
   "metadata": {
    "collapsed": false,
    "ExecuteTime": {
     "start_time": "2023-05-07T00:23:25.781133Z",
     "end_time": "2023-05-07T00:23:52.965529Z"
    }
   }
  },
  {
   "cell_type": "code",
   "execution_count": null,
   "outputs": [],
   "source": [],
   "metadata": {
    "collapsed": false
   }
  }
 ],
 "metadata": {
  "kernelspec": {
   "display_name": "Python 3",
   "language": "python",
   "name": "python3"
  },
  "language_info": {
   "codemirror_mode": {
    "name": "ipython",
    "version": 2
   },
   "file_extension": ".py",
   "mimetype": "text/x-python",
   "name": "python",
   "nbconvert_exporter": "python",
   "pygments_lexer": "ipython2",
   "version": "2.7.6"
  }
 },
 "nbformat": 4,
 "nbformat_minor": 0
}
