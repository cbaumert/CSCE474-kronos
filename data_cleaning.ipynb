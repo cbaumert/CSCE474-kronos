{
 "cells": [
  {
   "cell_type": "code",
   "execution_count": 2,
   "metadata": {
    "collapsed": true,
    "ExecuteTime": {
     "start_time": "2023-04-17T13:41:00.556711Z",
     "end_time": "2023-04-17T13:41:01.205930Z"
    }
   },
   "outputs": [],
   "source": [
    "import pandas as pd"
   ]
  },
  {
   "cell_type": "code",
   "execution_count": 4,
   "outputs": [],
   "source": [
    "data = pd.read_csv('US_Accidents_Dec21_updated.csv', encoding=\"ISO-8859-1\")"
   ],
   "metadata": {
    "collapsed": false,
    "ExecuteTime": {
     "start_time": "2023-04-17T13:43:22.467009Z",
     "end_time": "2023-04-17T13:43:54.305631Z"
    }
   }
  },
  {
   "cell_type": "code",
   "execution_count": 5,
   "outputs": [
    {
     "name": "stdout",
     "output_type": "stream",
     "text": [
      "    ID  Severity           Start_Time             End_Time  Start_Lat  \\\n",
      "0  A-1         3  2016-02-08 00:37:08  2016-02-08 06:37:08  40.108910   \n",
      "1  A-2         2  2016-02-08 05:56:20  2016-02-08 11:56:20  39.865420   \n",
      "2  A-3         2  2016-02-08 06:15:39  2016-02-08 12:15:39  39.102660   \n",
      "3  A-4         2  2016-02-08 06:51:45  2016-02-08 12:51:45  41.062130   \n",
      "4  A-5         3  2016-02-08 07:53:43  2016-02-08 13:53:43  39.172393   \n",
      "\n",
      "   Start_Lng    End_Lat    End_Lng  Distance(mi)  \\\n",
      "0 -83.092860  40.112060 -83.031870         3.230   \n",
      "1 -84.062800  39.865010 -84.048730         0.747   \n",
      "2 -84.524680  39.102090 -84.523960         0.055   \n",
      "3 -81.537840  41.062170 -81.535470         0.123   \n",
      "4 -84.492792  39.170476 -84.501798         0.500   \n",
      "\n",
      "                                         Description  ...  Roundabout Station  \\\n",
      "0  Between Sawmill Rd/Exit 20 and OH-315/Olentang...  ...       False   False   \n",
      "1                 At OH-4/OH-235/Exit 41 - Accident.  ...       False   False   \n",
      "2                   At I-71/US-50/Exit 1 - Accident.  ...       False   False   \n",
      "3                    At Dart Ave/Exit 21 - Accident.  ...       False   False   \n",
      "4                 At Mitchell Ave/Exit 6 - Accident.  ...       False   False   \n",
      "\n",
      "    Stop Traffic_Calming Traffic_Signal Turning_Loop Sunrise_Sunset  \\\n",
      "0  False           False          False        False          Night   \n",
      "1  False           False          False        False          Night   \n",
      "2  False           False          False        False          Night   \n",
      "3  False           False          False        False          Night   \n",
      "4  False           False          False        False            Day   \n",
      "\n",
      "  Civil_Twilight Nautical_Twilight Astronomical_Twilight  \n",
      "0          Night             Night                 Night  \n",
      "1          Night             Night                 Night  \n",
      "2          Night             Night                   Day  \n",
      "3          Night               Day                   Day  \n",
      "4            Day               Day                   Day  \n",
      "\n",
      "[5 rows x 47 columns]\n"
     ]
    }
   ],
   "source": [
    "# data preview\n",
    "print(data.head())"
   ],
   "metadata": {
    "collapsed": false,
    "ExecuteTime": {
     "start_time": "2023-04-17T13:45:41.578268Z",
     "end_time": "2023-04-17T13:45:41.585589Z"
    }
   }
  },
  {
   "cell_type": "code",
   "execution_count": 6,
   "outputs": [
    {
     "name": "stdout",
     "output_type": "stream",
     "text": [
      "Number of columns in the raw dataset:\n",
      "47\n"
     ]
    }
   ],
   "source": [
    "print(\"Number of columns in the raw dataset:\")\n",
    "num_cols = len(data.columns)\n",
    "print(num_cols)"
   ],
   "metadata": {
    "collapsed": false,
    "ExecuteTime": {
     "start_time": "2023-04-17T13:45:47.582669Z",
     "end_time": "2023-04-17T13:45:47.589794Z"
    }
   }
  },
  {
   "cell_type": "code",
   "execution_count": 7,
   "outputs": [
    {
     "name": "stdout",
     "output_type": "stream",
     "text": [
      "Column names:\n",
      "Index(['ID', 'Severity', 'Start_Time', 'End_Time', 'Start_Lat', 'Start_Lng',\n",
      "       'End_Lat', 'End_Lng', 'Distance(mi)', 'Description', 'Number', 'Street',\n",
      "       'Side', 'City', 'County', 'State', 'Zipcode', 'Country', 'Timezone',\n",
      "       'Airport_Code', 'Weather_Timestamp', 'Temperature(F)', 'Wind_Chill(F)',\n",
      "       'Humidity(%)', 'Pressure(in)', 'Visibility(mi)', 'Wind_Direction',\n",
      "       'Wind_Speed(mph)', 'Precipitation(in)', 'Weather_Condition', 'Amenity',\n",
      "       'Bump', 'Crossing', 'Give_Way', 'Junction', 'No_Exit', 'Railway',\n",
      "       'Roundabout', 'Station', 'Stop', 'Traffic_Calming', 'Traffic_Signal',\n",
      "       'Turning_Loop', 'Sunrise_Sunset', 'Civil_Twilight', 'Nautical_Twilight',\n",
      "       'Astronomical_Twilight'],\n",
      "      dtype='object')\n"
     ]
    }
   ],
   "source": [
    "print(\"Column names:\")\n",
    "print(data.columns)"
   ],
   "metadata": {
    "collapsed": false,
    "ExecuteTime": {
     "start_time": "2023-04-17T13:46:06.698760Z",
     "end_time": "2023-04-17T13:46:06.708038Z"
    }
   }
  },
  {
   "cell_type": "code",
   "execution_count": 8,
   "outputs": [
    {
     "name": "stdout",
     "output_type": "stream",
     "text": [
      "Number of columns with null values:\n",
      "20\n"
     ]
    }
   ],
   "source": [
    "print(\"Number of columns with null values:\")\n",
    "print(num_cols - len(data.dropna(axis=1).columns))"
   ],
   "metadata": {
    "collapsed": false,
    "ExecuteTime": {
     "start_time": "2023-04-17T13:46:09.791973Z",
     "end_time": "2023-04-17T13:46:18.270636Z"
    }
   }
  },
  {
   "cell_type": "code",
   "execution_count": 9,
   "outputs": [
    {
     "name": "stdout",
     "output_type": "stream",
     "text": [
      "Columns with null values:\n",
      "Index(['ID', 'Severity', 'Start_Time', 'End_Time', 'Start_Lat', 'Start_Lng',\n",
      "       'End_Lat', 'End_Lng', 'Distance(mi)', 'Description', 'Side', 'County',\n",
      "       'State', 'Country', 'Amenity', 'Bump', 'Crossing', 'Give_Way',\n",
      "       'Junction', 'No_Exit', 'Railway', 'Roundabout', 'Station', 'Stop',\n",
      "       'Traffic_Calming', 'Traffic_Signal', 'Turning_Loop'],\n",
      "      dtype='object')\n"
     ]
    }
   ],
   "source": [
    "print(\"Columns with null values:\")\n",
    "print(data.dropna(axis=1).columns)"
   ],
   "metadata": {
    "collapsed": false,
    "ExecuteTime": {
     "start_time": "2023-04-17T13:46:18.275823Z",
     "end_time": "2023-04-17T13:46:26.059948Z"
    }
   }
  },
  {
   "cell_type": "code",
   "execution_count": 13,
   "outputs": [
    {
     "name": "stdout",
     "output_type": "stream",
     "text": [
      "Number of rows in the raw dataset:\n",
      "2,845,342\n"
     ]
    }
   ],
   "source": [
    "print(\"Number of rows in the raw dataset:\")\n",
    "num_rows = len(data)\n",
    "print(f\"{num_rows:,}\")"
   ],
   "metadata": {
    "collapsed": false,
    "ExecuteTime": {
     "start_time": "2023-04-17T15:14:04.025095Z",
     "end_time": "2023-04-17T15:14:04.032164Z"
    }
   }
  },
  {
   "cell_type": "code",
   "execution_count": 14,
   "outputs": [
    {
     "name": "stdout",
     "output_type": "stream",
     "text": [
      "Number of rows with null values:\n",
      "1,902,024\n"
     ]
    }
   ],
   "source": [
    "print(\"Number of rows with null values:\")\n",
    "print(f\"{num_rows - len(data.dropna()):,}\")"
   ],
   "metadata": {
    "collapsed": false,
    "ExecuteTime": {
     "start_time": "2023-04-17T15:14:26.328664Z",
     "end_time": "2023-04-17T15:14:37.918413Z"
    }
   }
  },
  {
   "cell_type": "code",
   "execution_count": null,
   "outputs": [],
   "source": [],
   "metadata": {
    "collapsed": false
   }
  }
 ],
 "metadata": {
  "kernelspec": {
   "display_name": "Python 3",
   "language": "python",
   "name": "python3"
  },
  "language_info": {
   "codemirror_mode": {
    "name": "ipython",
    "version": 2
   },
   "file_extension": ".py",
   "mimetype": "text/x-python",
   "name": "python",
   "nbconvert_exporter": "python",
   "pygments_lexer": "ipython2",
   "version": "2.7.6"
  }
 },
 "nbformat": 4,
 "nbformat_minor": 0
}
