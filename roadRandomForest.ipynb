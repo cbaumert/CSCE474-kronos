{
 "cells": [
  {
   "cell_type": "code",
   "execution_count": 8,
   "metadata": {},
   "outputs": [],
   "source": [
    "import pandas as pd\n",
    "from sklearn.model_selection import train_test_split, RandomizedSearchCV\n",
    "from sklearn.ensemble import RandomForestClassifier\n",
    "from sklearn import metrics\n",
    "from sklearn.metrics import accuracy_score, confusion_matrix, f1_score, precision_score, recall_score, ConfusionMatrixDisplay\n",
    "import matplotlib as mpl\n",
    "import matplotlib.pyplot as plt\n",
    "from scipy.stats import randint\n",
    "from collections import Counter\n",
    "from imblearn.under_sampling import RandomUnderSampler\n",
    "from imblearn.over_sampling import RandomOverSampler\n"
   ]
  },
  {
   "cell_type": "code",
   "execution_count": 9,
   "metadata": {},
   "outputs": [
    {
     "data": {
      "text/html": [
       "<div>\n",
       "<style scoped>\n",
       "    .dataframe tbody tr th:only-of-type {\n",
       "        vertical-align: middle;\n",
       "    }\n",
       "\n",
       "    .dataframe tbody tr th {\n",
       "        vertical-align: top;\n",
       "    }\n",
       "\n",
       "    .dataframe thead th {\n",
       "        text-align: right;\n",
       "    }\n",
       "</style>\n",
       "<table border=\"1\" class=\"dataframe\">\n",
       "  <thead>\n",
       "    <tr style=\"text-align: right;\">\n",
       "      <th></th>\n",
       "      <th>ID</th>\n",
       "      <th>Severity</th>\n",
       "      <th>Amenity</th>\n",
       "      <th>Bump</th>\n",
       "      <th>Crossing</th>\n",
       "      <th>Give_Way</th>\n",
       "      <th>Junction</th>\n",
       "      <th>No_Exit</th>\n",
       "      <th>Railway</th>\n",
       "      <th>Roundabout</th>\n",
       "      <th>Station</th>\n",
       "      <th>Stop</th>\n",
       "      <th>Traffic_Calming</th>\n",
       "      <th>Traffic_Signal</th>\n",
       "      <th>Turning_Loop</th>\n",
       "    </tr>\n",
       "  </thead>\n",
       "  <tbody>\n",
       "    <tr>\n",
       "      <th>739319</th>\n",
       "      <td>A-739320</td>\n",
       "      <td>2</td>\n",
       "      <td>False</td>\n",
       "      <td>False</td>\n",
       "      <td>False</td>\n",
       "      <td>False</td>\n",
       "      <td>False</td>\n",
       "      <td>False</td>\n",
       "      <td>False</td>\n",
       "      <td>False</td>\n",
       "      <td>False</td>\n",
       "      <td>False</td>\n",
       "      <td>False</td>\n",
       "      <td>False</td>\n",
       "      <td>False</td>\n",
       "    </tr>\n",
       "    <tr>\n",
       "      <th>442487</th>\n",
       "      <td>A-442488</td>\n",
       "      <td>2</td>\n",
       "      <td>False</td>\n",
       "      <td>False</td>\n",
       "      <td>False</td>\n",
       "      <td>False</td>\n",
       "      <td>False</td>\n",
       "      <td>False</td>\n",
       "      <td>False</td>\n",
       "      <td>False</td>\n",
       "      <td>False</td>\n",
       "      <td>False</td>\n",
       "      <td>False</td>\n",
       "      <td>False</td>\n",
       "      <td>False</td>\n",
       "    </tr>\n",
       "    <tr>\n",
       "      <th>1005434</th>\n",
       "      <td>A-1005435</td>\n",
       "      <td>2</td>\n",
       "      <td>False</td>\n",
       "      <td>False</td>\n",
       "      <td>False</td>\n",
       "      <td>False</td>\n",
       "      <td>False</td>\n",
       "      <td>False</td>\n",
       "      <td>False</td>\n",
       "      <td>False</td>\n",
       "      <td>False</td>\n",
       "      <td>False</td>\n",
       "      <td>False</td>\n",
       "      <td>False</td>\n",
       "      <td>False</td>\n",
       "    </tr>\n",
       "    <tr>\n",
       "      <th>541309</th>\n",
       "      <td>A-541310</td>\n",
       "      <td>2</td>\n",
       "      <td>False</td>\n",
       "      <td>False</td>\n",
       "      <td>False</td>\n",
       "      <td>False</td>\n",
       "      <td>False</td>\n",
       "      <td>False</td>\n",
       "      <td>False</td>\n",
       "      <td>False</td>\n",
       "      <td>False</td>\n",
       "      <td>False</td>\n",
       "      <td>False</td>\n",
       "      <td>False</td>\n",
       "      <td>False</td>\n",
       "    </tr>\n",
       "    <tr>\n",
       "      <th>1192138</th>\n",
       "      <td>A-1192139</td>\n",
       "      <td>2</td>\n",
       "      <td>False</td>\n",
       "      <td>False</td>\n",
       "      <td>False</td>\n",
       "      <td>False</td>\n",
       "      <td>False</td>\n",
       "      <td>False</td>\n",
       "      <td>False</td>\n",
       "      <td>False</td>\n",
       "      <td>False</td>\n",
       "      <td>False</td>\n",
       "      <td>False</td>\n",
       "      <td>False</td>\n",
       "      <td>False</td>\n",
       "    </tr>\n",
       "  </tbody>\n",
       "</table>\n",
       "</div>"
      ],
      "text/plain": [
       "                ID  Severity  Amenity   Bump  Crossing  Give_Way  Junction   \n",
       "739319    A-739320         2    False  False     False     False     False  \\\n",
       "442487    A-442488         2    False  False     False     False     False   \n",
       "1005434  A-1005435         2    False  False     False     False     False   \n",
       "541309    A-541310         2    False  False     False     False     False   \n",
       "1192138  A-1192139         2    False  False     False     False     False   \n",
       "\n",
       "         No_Exit  Railway  Roundabout  Station   Stop  Traffic_Calming   \n",
       "739319     False    False       False    False  False            False  \\\n",
       "442487     False    False       False    False  False            False   \n",
       "1005434    False    False       False    False  False            False   \n",
       "541309     False    False       False    False  False            False   \n",
       "1192138    False    False       False    False  False            False   \n",
       "\n",
       "         Traffic_Signal  Turning_Loop  \n",
       "739319            False         False  \n",
       "442487            False         False  \n",
       "1005434           False         False  \n",
       "541309            False         False  \n",
       "1192138           False         False  "
      ]
     },
     "execution_count": 9,
     "metadata": {},
     "output_type": "execute_result"
    }
   ],
   "source": [
    "df = pd.read_csv(\"./us_accidents_road_data.csv\", index_col=0)\n",
    "df = df.sample(n = 400000)\n",
    "df.head()\n"
   ]
  },
  {
   "cell_type": "code",
   "execution_count": 10,
   "metadata": {},
   "outputs": [],
   "source": [
    "x = df.drop(['Severity', 'ID'], axis=1)\n",
    "y = df[\"Severity\"]\n",
    "\n",
    "x_train, x_test, y_train, y_test = train_test_split(x, y, test_size=0.25, random_state=4)"
   ]
  },
  {
   "cell_type": "code",
   "execution_count": 11,
   "metadata": {},
   "outputs": [
    {
     "name": "stdout",
     "output_type": "stream",
     "text": [
      "Before undersampling:  Counter({2: 66792, 3: 4040, 4: 3484, 1: 684})\n",
      "After undersampling:  Counter({1: 684, 2: 684, 3: 684, 4: 684})\n"
     ]
    }
   ],
   "source": [
    "# #****UNDER SAMPLING CODE SNIPPET\n",
    "# # Summarize class distribution.\n",
    "print(\"Before undersampling: \", Counter(y_train))\n",
    "# #\n",
    "undersample = RandomUnderSampler()\n",
    "x_train, y_train = undersample.fit_resample(x_train, y_train)\n",
    "#\n",
    "# Summarize new class distribution.\n",
    "print(\"After undersampling: \", Counter(y_train))"
   ]
  },
  {
   "cell_type": "code",
   "execution_count": 12,
   "metadata": {},
   "outputs": [],
   "source": [
    "# Summarize class distribution.\n",
    "# print(\"Before oversampling: \",Counter(y_train))\n",
    "# #\n",
    "# ros = RandomOverSampler()\n",
    "# x_train, y_train = ros.fit_resample(x_train, y_train)\n",
    "# #\n",
    "# # Summarize new class distribution.\n",
    "# print(\"After oversampling: \", Counter(y_train))\n"
   ]
  },
  {
   "cell_type": "code",
   "execution_count": 13,
   "metadata": {},
   "outputs": [],
   "source": [
    "rfc = RandomForestClassifier(n_jobs=-1)\n",
    "\n",
    "param_dist = {'n_estimators': randint(50, 10000), 'max_depth': randint(1, 20)}\n",
    "rand_search = RandomizedSearchCV(rfc, param_distributions = param_dist, n_iter = 5, cv = 5, n_jobs=-1)\n",
    "\n",
    "rand_search.fit(x_train, y_train)\n",
    "y_pred = rand_search.predict(x_test)\n"
   ]
  },
  {
   "cell_type": "code",
   "execution_count": 14,
   "metadata": {},
   "outputs": [
    {
     "name": "stdout",
     "output_type": "stream",
     "text": [
      "Best hyperparameters: {'max_depth': 19, 'n_estimators': 4040}\n",
      "\n",
      "Accuracy: 0.71968\n",
      "Precision: [0.04272086 0.89970305 0.1103081  0.06074766]\n",
      "Recall: [0.44978166 0.79261197 0.20465773 0.02197802]\n",
      "f1 score: [0.0780303  0.84276911 0.14335146 0.03227809]\n"
     ]
    },
    {
     "data": {
      "image/png": "[encoded data removed]",
      "text/plain": [
       "<Figure size 640x480 with 2 Axes>"
      ]
     },
     "metadata": {},
     "output_type": "display_data"
    },
    {
     "data": {
      "image/png": "[encoded data removed]",
      "text/plain": [
       "<Figure size 640x480 with 1 Axes>"
      ]
     },
     "metadata": {},
     "output_type": "display_data"
    },
    {
     "name": "stdout",
     "output_type": "stream",
     "text": [
      "\n",
      "Top 10 important features:\n",
      " Traffic_Signal     0.456689\n",
      "Crossing           0.250683\n",
      "Junction           0.105524\n",
      "Station            0.051043\n",
      "Railway            0.037233\n",
      "Stop               0.029752\n",
      "Amenity            0.029089\n",
      "No_Exit            0.014831\n",
      "Give_Way           0.014699\n",
      "Traffic_Calming    0.007498\n",
      "dtype: float64\n"
     ]
    }
   ],
   "source": [
    "best_rf = rand_search.best_estimator_\n",
    "print('Best hyperparameters:',  rand_search.best_params_)\n",
    "\n",
    "\n",
    "# Generate predictions with the best model\n",
    "y_pred = best_rf.predict(x_test)\n",
    "\n",
    "# Calculate model metrics.\n",
    "model_accuracy = accuracy_score(y_test, y_pred)\n",
    "model_precision = precision_score(y_test, y_pred, average = None)\n",
    "model_recall = recall_score(y_test, y_pred, average = None)\n",
    "model_f1 = f1_score(y_test, y_pred, average = None)\n",
    "\n",
    "print(\"\\nAccuracy:\", model_accuracy)\n",
    "print(\"Precision:\", model_precision)\n",
    "print(\"Recall:\", model_recall)\n",
    "print(\"f1 score:\", model_f1)\n",
    "\n",
    "# Create the confusion matrix\n",
    "cm = confusion_matrix(y_test, y_pred)\n",
    "ConfusionMatrixDisplay(confusion_matrix = cm).plot()\n",
    "plt.show()\n",
    "\n",
    "\n",
    "# Create a series containing feature importances from the model and feature names from the training data.\n",
    "feature_importances = pd.Series(best_rf.feature_importances_, index = x_train.columns).sort_values(ascending = False)\n",
    "top_importances = feature_importances[:10]\n",
    "\n",
    "# Plot a simple bar chart\n",
    "top_importances.plot.bar()\n",
    "plt.show()\n",
    "\n",
    "print(\"\\nTop 10 important features:\\n\", top_importances)"
   ]
  }
 ],
 "metadata": {
  "kernelspec": {
   "display_name": "Python 3",
   "language": "python",
   "name": "python3"
  },
  "language_info": {
   "codemirror_mode": {
    "name": "ipython",
    "version": 3
   },
   "file_extension": ".py",
   "mimetype": "text/x-python",
   "name": "python",
   "nbconvert_exporter": "python",
   "pygments_lexer": "ipython3",
   "version": "3.10.0"
  },
  "orig_nbformat": 4
 },
 "nbformat": 4,
 "nbformat_minor": 2
}
