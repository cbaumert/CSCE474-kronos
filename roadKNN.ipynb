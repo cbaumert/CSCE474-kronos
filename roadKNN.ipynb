{
 "cells": [
  {
   "cell_type": "code",
   "execution_count": 14,
   "metadata": {},
   "outputs": [],
   "source": [
    "import pandas as pd\n",
    "from sklearn.model_selection import train_test_split, RandomizedSearchCV\n",
    "from sklearn.neighbors import KNeighborsClassifier\n",
    "from sklearn import metrics\n",
    "from sklearn.metrics import accuracy_score, confusion_matrix, f1_score, precision_score, recall_score, ConfusionMatrixDisplay\n",
    "import matplotlib as mpl\n",
    "import matplotlib.pyplot as plt\n",
    "from scipy.stats import randint\n",
    "from collections import Counter\n",
    "from imblearn.under_sampling import OneSidedSelection\n",
    "from imblearn.over_sampling import RandomOverSampler\n",
    "\n"
   ]
  },
  {
   "cell_type": "code",
   "execution_count": 15,
   "metadata": {},
   "outputs": [
    {
     "data": {
      "text/html": [
       "<div>\n",
       "<style scoped>\n",
       "    .dataframe tbody tr th:only-of-type {\n",
       "        vertical-align: middle;\n",
       "    }\n",
       "\n",
       "    .dataframe tbody tr th {\n",
       "        vertical-align: top;\n",
       "    }\n",
       "\n",
       "    .dataframe thead th {\n",
       "        text-align: right;\n",
       "    }\n",
       "</style>\n",
       "<table border=\"1\" class=\"dataframe\">\n",
       "  <thead>\n",
       "    <tr style=\"text-align: right;\">\n",
       "      <th></th>\n",
       "      <th>ID</th>\n",
       "      <th>Severity</th>\n",
       "      <th>Amenity</th>\n",
       "      <th>Bump</th>\n",
       "      <th>Crossing</th>\n",
       "      <th>Give_Way</th>\n",
       "      <th>Junction</th>\n",
       "      <th>No_Exit</th>\n",
       "      <th>Railway</th>\n",
       "      <th>Roundabout</th>\n",
       "      <th>Station</th>\n",
       "      <th>Stop</th>\n",
       "      <th>Traffic_Calming</th>\n",
       "      <th>Traffic_Signal</th>\n",
       "      <th>Turning_Loop</th>\n",
       "    </tr>\n",
       "  </thead>\n",
       "  <tbody>\n",
       "    <tr>\n",
       "      <th>1468728</th>\n",
       "      <td>A-1468729</td>\n",
       "      <td>2</td>\n",
       "      <td>False</td>\n",
       "      <td>False</td>\n",
       "      <td>False</td>\n",
       "      <td>False</td>\n",
       "      <td>True</td>\n",
       "      <td>False</td>\n",
       "      <td>False</td>\n",
       "      <td>False</td>\n",
       "      <td>False</td>\n",
       "      <td>False</td>\n",
       "      <td>False</td>\n",
       "      <td>False</td>\n",
       "      <td>False</td>\n",
       "    </tr>\n",
       "    <tr>\n",
       "      <th>296769</th>\n",
       "      <td>A-296770</td>\n",
       "      <td>2</td>\n",
       "      <td>False</td>\n",
       "      <td>False</td>\n",
       "      <td>False</td>\n",
       "      <td>False</td>\n",
       "      <td>False</td>\n",
       "      <td>False</td>\n",
       "      <td>False</td>\n",
       "      <td>False</td>\n",
       "      <td>False</td>\n",
       "      <td>False</td>\n",
       "      <td>False</td>\n",
       "      <td>False</td>\n",
       "      <td>False</td>\n",
       "    </tr>\n",
       "    <tr>\n",
       "      <th>2386600</th>\n",
       "      <td>A-2386601</td>\n",
       "      <td>2</td>\n",
       "      <td>False</td>\n",
       "      <td>False</td>\n",
       "      <td>False</td>\n",
       "      <td>False</td>\n",
       "      <td>False</td>\n",
       "      <td>False</td>\n",
       "      <td>False</td>\n",
       "      <td>False</td>\n",
       "      <td>False</td>\n",
       "      <td>False</td>\n",
       "      <td>False</td>\n",
       "      <td>False</td>\n",
       "      <td>False</td>\n",
       "    </tr>\n",
       "    <tr>\n",
       "      <th>1148683</th>\n",
       "      <td>A-1148684</td>\n",
       "      <td>2</td>\n",
       "      <td>False</td>\n",
       "      <td>False</td>\n",
       "      <td>False</td>\n",
       "      <td>False</td>\n",
       "      <td>True</td>\n",
       "      <td>False</td>\n",
       "      <td>False</td>\n",
       "      <td>False</td>\n",
       "      <td>False</td>\n",
       "      <td>False</td>\n",
       "      <td>False</td>\n",
       "      <td>False</td>\n",
       "      <td>False</td>\n",
       "    </tr>\n",
       "    <tr>\n",
       "      <th>2127536</th>\n",
       "      <td>A-2127537</td>\n",
       "      <td>2</td>\n",
       "      <td>False</td>\n",
       "      <td>False</td>\n",
       "      <td>False</td>\n",
       "      <td>False</td>\n",
       "      <td>False</td>\n",
       "      <td>False</td>\n",
       "      <td>False</td>\n",
       "      <td>False</td>\n",
       "      <td>False</td>\n",
       "      <td>False</td>\n",
       "      <td>False</td>\n",
       "      <td>False</td>\n",
       "      <td>False</td>\n",
       "    </tr>\n",
       "  </tbody>\n",
       "</table>\n",
       "</div>"
      ],
      "text/plain": [
       "                ID  Severity  Amenity   Bump  Crossing  Give_Way  Junction   \n",
       "1468728  A-1468729         2    False  False     False     False      True  \\\n",
       "296769    A-296770         2    False  False     False     False     False   \n",
       "2386600  A-2386601         2    False  False     False     False     False   \n",
       "1148683  A-1148684         2    False  False     False     False      True   \n",
       "2127536  A-2127537         2    False  False     False     False     False   \n",
       "\n",
       "         No_Exit  Railway  Roundabout  Station   Stop  Traffic_Calming   \n",
       "1468728    False    False       False    False  False            False  \\\n",
       "296769     False    False       False    False  False            False   \n",
       "2386600    False    False       False    False  False            False   \n",
       "1148683    False    False       False    False  False            False   \n",
       "2127536    False    False       False    False  False            False   \n",
       "\n",
       "         Traffic_Signal  Turning_Loop  \n",
       "1468728           False         False  \n",
       "296769            False         False  \n",
       "2386600           False         False  \n",
       "1148683           False         False  \n",
       "2127536           False         False  "
      ]
     },
     "execution_count": 15,
     "metadata": {},
     "output_type": "execute_result"
    }
   ],
   "source": [
    "df = pd.read_csv(\"./us_accidents_road_data.csv\", index_col=0)\n",
    "df = df.sample(n = 400000)\n",
    "df.head()\n"
   ]
  },
  {
   "cell_type": "code",
   "execution_count": 16,
   "metadata": {},
   "outputs": [],
   "source": [
    "x = df.drop(['Severity', 'ID'], axis=1)\n",
    "y = df[\"Severity\"]\n",
    "\n",
    "x_train, x_test, y_train, y_test = train_test_split(x, y, test_size=0.25, random_state=4)"
   ]
  },
  {
   "cell_type": "code",
   "execution_count": 17,
   "metadata": {},
   "outputs": [],
   "source": [
    "# #****UNDER SAMPLING CODE SNIPPET\n",
    "# # Summarize class distribution.\n",
    "# print(\"Before undersampling: \", Counter(y_train))\n",
    "# # #\n",
    "# undersample = OneSidedSelection(n_jobs=-1)\n",
    "# x_train, y_train = undersample.fit_resample(x_train, y_train)\n",
    "# #\n",
    "# # Summarize new class distribution.\n",
    "# print(\"After undersampling: \", Counter(y_train))\n",
    "# print(\"test: \", Counter(y_test))"
   ]
  },
  {
   "cell_type": "code",
   "execution_count": 18,
   "metadata": {},
   "outputs": [],
   "source": [
    "# Summarize class distribution.\n",
    "# print(\"Before oversampling: \",Counter(y_train))\n",
    "# #\n",
    "# ros = RandomOverSampler()\n",
    "# x_train, y_train = ros.fit_resample(x_train, y_train)\n",
    "# #\n",
    "# # Summarize new class distribution.\n",
    "# print(\"After oversampling: \", Counter(y_train))\n"
   ]
  },
  {
   "cell_type": "code",
   "execution_count": 19,
   "metadata": {},
   "outputs": [
    {
     "name": "stderr",
     "output_type": "stream",
     "text": [
      "c:\\Users\\Me\\AppData\\Local\\Programs\\Python\\Python310\\lib\\site-packages\\sklearn\\metrics\\_classification.py:1344: UndefinedMetricWarning: Precision is ill-defined and being set to 0.0 in labels with no predicted samples. Use `zero_division` parameter to control this behavior.\n",
      "  _warn_prf(average, modifier, msg_start, len(result))\n"
     ]
    },
    {
     "name": "stdout",
     "output_type": "stream",
     "text": [
      "\n",
      "Nearest Neigbors: 1\n",
      "Accuracy: 0.866\n",
      "Precision: [0.         0.89063016 0.07002801 0.10526316]\n",
      "Recall: [0.         0.97314348 0.03551136 0.00346021]\n",
      "f1 score: [0.         0.93006029 0.04712535 0.00670017]\n"
     ]
    },
    {
     "name": "stderr",
     "output_type": "stream",
     "text": [
      "c:\\Users\\Me\\AppData\\Local\\Programs\\Python\\Python310\\lib\\site-packages\\sklearn\\metrics\\_classification.py:1344: UndefinedMetricWarning: Precision is ill-defined and being set to 0.0 in labels with no predicted samples. Use `zero_division` parameter to control this behavior.\n",
      "  _warn_prf(average, modifier, msg_start, len(result))\n"
     ]
    },
    {
     "name": "stdout",
     "output_type": "stream",
     "text": [
      "\n",
      "Nearest Neigbors: 2\n",
      "Accuracy: 0.8868\n",
      "Precision: [0.         0.88764315 0.09090909 0.        ]\n",
      "Recall: [0.         0.99891853 0.00142045 0.        ]\n",
      "f1 score: [0.         0.93999915 0.0027972  0.        ]\n",
      "\n",
      "Nearest Neigbors: 3\n",
      "Accuracy: 0.86864\n",
      "Precision: [0.10416667 0.89061728 0.16666667 0.        ]\n",
      "Recall: [0.28688525 0.97521629 0.00284091 0.        ]\n",
      "f1 score: [0.15283843 0.93099888 0.00558659 0.        ]\n"
     ]
    },
    {
     "name": "stderr",
     "output_type": "stream",
     "text": [
      "c:\\Users\\Me\\AppData\\Local\\Programs\\Python\\Python310\\lib\\site-packages\\sklearn\\metrics\\_classification.py:1344: UndefinedMetricWarning: Precision is ill-defined and being set to 0.0 in labels with no predicted samples. Use `zero_division` parameter to control this behavior.\n",
      "  _warn_prf(average, modifier, msg_start, len(result))\n"
     ]
    },
    {
     "name": "stdout",
     "output_type": "stream",
     "text": [
      "\n",
      "Nearest Neigbors: 4\n",
      "Accuracy: 0.8696\n",
      "Precision: [0.10542169 0.89058775 0.33333333 0.        ]\n",
      "Recall: [0.28688525 0.97638789 0.00142045 0.        ]\n",
      "f1 score: [0.15418502 0.93151627 0.00282885 0.        ]\n"
     ]
    },
    {
     "name": "stderr",
     "output_type": "stream",
     "text": [
      "c:\\Users\\Me\\AppData\\Local\\Programs\\Python\\Python310\\lib\\site-packages\\sklearn\\metrics\\_classification.py:1344: UndefinedMetricWarning: Precision is ill-defined and being set to 0.0 in labels with no predicted samples. Use `zero_division` parameter to control this behavior.\n",
      "  _warn_prf(average, modifier, msg_start, len(result))\n"
     ]
    },
    {
     "name": "stdout",
     "output_type": "stream",
     "text": [
      "\n",
      "Nearest Neigbors: 5\n",
      "Accuracy: 0.86968\n",
      "Precision: [0.10542169 0.89059675 0.5        0.        ]\n",
      "Recall: [0.28688525 0.97647801 0.00142045 0.        ]\n",
      "f1 score: [0.15418502 0.9315622  0.00283286 0.        ]\n"
     ]
    },
    {
     "name": "stderr",
     "output_type": "stream",
     "text": [
      "c:\\Users\\Me\\AppData\\Local\\Programs\\Python\\Python310\\lib\\site-packages\\sklearn\\metrics\\_classification.py:1344: UndefinedMetricWarning: Precision is ill-defined and being set to 0.0 in labels with no predicted samples. Use `zero_division` parameter to control this behavior.\n",
      "  _warn_prf(average, modifier, msg_start, len(result))\n"
     ]
    },
    {
     "name": "stdout",
     "output_type": "stream",
     "text": [
      "\n",
      "Nearest Neigbors: 6\n",
      "Accuracy: 0.88768\n",
      "Precision: [0.      0.88768 0.      0.     ]\n",
      "Recall: [0. 1. 0. 0.]\n",
      "f1 score: [0.         0.94049839 0.         0.        ]\n"
     ]
    },
    {
     "name": "stderr",
     "output_type": "stream",
     "text": [
      "c:\\Users\\Me\\AppData\\Local\\Programs\\Python\\Python310\\lib\\site-packages\\sklearn\\metrics\\_classification.py:1344: UndefinedMetricWarning: Precision is ill-defined and being set to 0.0 in labels with no predicted samples. Use `zero_division` parameter to control this behavior.\n",
      "  _warn_prf(average, modifier, msg_start, len(result))\n"
     ]
    },
    {
     "name": "stdout",
     "output_type": "stream",
     "text": [
      "\n",
      "Nearest Neigbors: 7\n",
      "Accuracy: 0.88768\n",
      "Precision: [0.      0.88768 0.      0.     ]\n",
      "Recall: [0. 1. 0. 0.]\n",
      "f1 score: [0.         0.94049839 0.         0.        ]\n"
     ]
    },
    {
     "name": "stderr",
     "output_type": "stream",
     "text": [
      "c:\\Users\\Me\\AppData\\Local\\Programs\\Python\\Python310\\lib\\site-packages\\sklearn\\metrics\\_classification.py:1344: UndefinedMetricWarning: Precision is ill-defined and being set to 0.0 in labels with no predicted samples. Use `zero_division` parameter to control this behavior.\n",
      "  _warn_prf(average, modifier, msg_start, len(result))\n"
     ]
    },
    {
     "name": "stdout",
     "output_type": "stream",
     "text": [
      "\n",
      "Nearest Neigbors: 8\n",
      "Accuracy: 0.88768\n",
      "Precision: [0.      0.88768 0.      0.     ]\n",
      "Recall: [0. 1. 0. 0.]\n",
      "f1 score: [0.         0.94049839 0.         0.        ]\n"
     ]
    },
    {
     "name": "stderr",
     "output_type": "stream",
     "text": [
      "c:\\Users\\Me\\AppData\\Local\\Programs\\Python\\Python310\\lib\\site-packages\\sklearn\\metrics\\_classification.py:1344: UndefinedMetricWarning: Precision is ill-defined and being set to 0.0 in labels with no predicted samples. Use `zero_division` parameter to control this behavior.\n",
      "  _warn_prf(average, modifier, msg_start, len(result))\n"
     ]
    },
    {
     "name": "stdout",
     "output_type": "stream",
     "text": [
      "\n",
      "Nearest Neigbors: 9\n",
      "Accuracy: 0.88768\n",
      "Precision: [0.      0.88768 0.      0.     ]\n",
      "Recall: [0. 1. 0. 0.]\n",
      "f1 score: [0.         0.94049839 0.         0.        ]\n",
      "\n",
      "Nearest Neigbors: 10\n",
      "Accuracy: 0.88768\n",
      "Precision: [0.      0.88768 0.      0.     ]\n",
      "Recall: [0. 1. 0. 0.]\n",
      "f1 score: [0.         0.94049839 0.         0.        ]\n"
     ]
    },
    {
     "name": "stderr",
     "output_type": "stream",
     "text": [
      "c:\\Users\\Me\\AppData\\Local\\Programs\\Python\\Python310\\lib\\site-packages\\sklearn\\metrics\\_classification.py:1344: UndefinedMetricWarning: Precision is ill-defined and being set to 0.0 in labels with no predicted samples. Use `zero_division` parameter to control this behavior.\n",
      "  _warn_prf(average, modifier, msg_start, len(result))\n"
     ]
    }
   ],
   "source": [
    "accuracies = []\n",
    "\n",
    "# Get results for various k values.\n",
    "for i in range(1, 11):\n",
    "    # Build the KNN classifier.\n",
    "    knn = KNeighborsClassifier(n_neighbors=i, n_jobs=-1)\n",
    "    knn.fit(x_train, y_train)\n",
    "    y_pred = knn.predict(x_test)\n",
    "\n",
    "\n",
    "    # Calculate model metrics.\n",
    "    model_accuracy = accuracy_score(y_test, y_pred)\n",
    "    model_precision = precision_score(y_test, y_pred, average = None)\n",
    "    model_recall = recall_score(y_test, y_pred, average = None)\n",
    "    model_f1 = f1_score(y_test, y_pred, average = None)\n",
    "\n",
    "    accuracies.append(model_accuracy)\n",
    "\n",
    "    print(\"\\nNearest Neigbors:\", i)\n",
    "    print(\"Accuracy:\", model_accuracy)\n",
    "    print(\"Precision:\", model_precision)\n",
    "    print(\"Recall:\", model_recall)\n",
    "    print(\"f1 score:\", model_f1)\n"
   ]
  },
  {
   "cell_type": "code",
   "execution_count": 20,
   "metadata": {},
   "outputs": [
    {
     "data": {
      "image/png": "[encoded data removed]",
      "text/plain": [
       "<Figure size 640x480 with 1 Axes>"
      ]
     },
     "metadata": {},
     "output_type": "display_data"
    }
   ],
   "source": [
    "plt.scatter(range(1, 11), accuracies)\n",
    "plt.show()"
   ]
  }
 ],
 "metadata": {
  "kernelspec": {
   "display_name": "Python 3",
   "language": "python",
   "name": "python3"
  },
  "language_info": {
   "codemirror_mode": {
    "name": "ipython",
    "version": 3
   },
   "file_extension": ".py",
   "mimetype": "text/x-python",
   "name": "python",
   "nbconvert_exporter": "python",
   "pygments_lexer": "ipython3",
   "version": "3.10.0"
  },
  "orig_nbformat": 4
 },
 "nbformat": 4,
 "nbformat_minor": 2
}
